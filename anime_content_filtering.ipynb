{
  "nbformat": 4,
  "nbformat_minor": 0,
  "metadata": {
    "colab": {
      "name": "anime_content_filtering.ipynb",
      "provenance": []
    },
    "kernelspec": {
      "name": "python3",
      "display_name": "Python 3"
    }
  },
  "cells": [
    {
      "cell_type": "code",
      "metadata": {
        "id": "aRnwy6L2AGgS",
        "colab_type": "code",
        "colab": {}
      },
      "source": [
        "import numpy as np\n",
        "import pandas as pd"
      ],
      "execution_count": 61,
      "outputs": []
    },
    {
      "cell_type": "code",
      "metadata": {
        "id": "h7h5c-tPAL8X",
        "colab_type": "code",
        "colab": {
          "base_uri": "https://localhost:8080/",
          "height": 574
        },
        "outputId": "ab00066f-2e44-43b4-ee4a-8733bb33f897"
      },
      "source": [
        "df = pd.read_csv('anime.csv')\n",
        "df.head()"
      ],
      "execution_count": 62,
      "outputs": [
        {
          "output_type": "execute_result",
          "data": {
            "text/html": [
              "<div>\n",
              "<style scoped>\n",
              "    .dataframe tbody tr th:only-of-type {\n",
              "        vertical-align: middle;\n",
              "    }\n",
              "\n",
              "    .dataframe tbody tr th {\n",
              "        vertical-align: top;\n",
              "    }\n",
              "\n",
              "    .dataframe thead th {\n",
              "        text-align: right;\n",
              "    }\n",
              "</style>\n",
              "<table border=\"1\" class=\"dataframe\">\n",
              "  <thead>\n",
              "    <tr style=\"text-align: right;\">\n",
              "      <th></th>\n",
              "      <th>title</th>\n",
              "      <th>mediaType</th>\n",
              "      <th>eps</th>\n",
              "      <th>duration</th>\n",
              "      <th>ongoing</th>\n",
              "      <th>startYr</th>\n",
              "      <th>finishYr</th>\n",
              "      <th>sznOfRelease</th>\n",
              "      <th>description</th>\n",
              "      <th>studios</th>\n",
              "      <th>tags</th>\n",
              "      <th>contentWarn</th>\n",
              "      <th>watched</th>\n",
              "      <th>watching</th>\n",
              "      <th>wantWatch</th>\n",
              "      <th>dropped</th>\n",
              "      <th>rating</th>\n",
              "      <th>votes</th>\n",
              "    </tr>\n",
              "  </thead>\n",
              "  <tbody>\n",
              "    <tr>\n",
              "      <th>0</th>\n",
              "      <td>Fullmetal Alchemist: Brotherhood</td>\n",
              "      <td>TV</td>\n",
              "      <td>64.0</td>\n",
              "      <td>NaN</td>\n",
              "      <td>False</td>\n",
              "      <td>2009.0</td>\n",
              "      <td>2010.0</td>\n",
              "      <td>Spring</td>\n",
              "      <td>The foundation of alchemy is based on the law ...</td>\n",
              "      <td>['Bones']</td>\n",
              "      <td>['Action', 'Adventure', 'Drama', 'Fantasy', 'M...</td>\n",
              "      <td>['Animal Abuse', 'Mature Themes', 'Violence', ...</td>\n",
              "      <td>103707.0</td>\n",
              "      <td>14351</td>\n",
              "      <td>25810</td>\n",
              "      <td>2656</td>\n",
              "      <td>4.702</td>\n",
              "      <td>86547.0</td>\n",
              "    </tr>\n",
              "    <tr>\n",
              "      <th>1</th>\n",
              "      <td>your name.</td>\n",
              "      <td>Movie</td>\n",
              "      <td>1.0</td>\n",
              "      <td>107.0</td>\n",
              "      <td>False</td>\n",
              "      <td>2016.0</td>\n",
              "      <td>2016.0</td>\n",
              "      <td>NaN</td>\n",
              "      <td>Mitsuha and Taki are two total strangers livin...</td>\n",
              "      <td>['CoMix Wave Films']</td>\n",
              "      <td>['Drama', 'Romance', 'Body Swapping', 'Gender ...</td>\n",
              "      <td>[]</td>\n",
              "      <td>58831.0</td>\n",
              "      <td>1453</td>\n",
              "      <td>21733</td>\n",
              "      <td>124</td>\n",
              "      <td>4.663</td>\n",
              "      <td>43960.0</td>\n",
              "    </tr>\n",
              "    <tr>\n",
              "      <th>2</th>\n",
              "      <td>A Silent Voice</td>\n",
              "      <td>Movie</td>\n",
              "      <td>1.0</td>\n",
              "      <td>130.0</td>\n",
              "      <td>False</td>\n",
              "      <td>2016.0</td>\n",
              "      <td>2016.0</td>\n",
              "      <td>NaN</td>\n",
              "      <td>After transferring into a new school, a deaf g...</td>\n",
              "      <td>['Kyoto Animation']</td>\n",
              "      <td>['Drama', 'Shounen', 'Disability', 'Melancholy...</td>\n",
              "      <td>['Bullying', 'Mature Themes', 'Suicide']</td>\n",
              "      <td>45892.0</td>\n",
              "      <td>946</td>\n",
              "      <td>17148</td>\n",
              "      <td>132</td>\n",
              "      <td>4.661</td>\n",
              "      <td>33752.0</td>\n",
              "    </tr>\n",
              "    <tr>\n",
              "      <th>3</th>\n",
              "      <td>Haikyuu!! Karasuno High School vs Shiratorizaw...</td>\n",
              "      <td>TV</td>\n",
              "      <td>10.0</td>\n",
              "      <td>NaN</td>\n",
              "      <td>False</td>\n",
              "      <td>2016.0</td>\n",
              "      <td>2016.0</td>\n",
              "      <td>Fall</td>\n",
              "      <td>Picking up where the second season ended, the ...</td>\n",
              "      <td>['Production I.G']</td>\n",
              "      <td>['Shounen', 'Sports', 'Animeism', 'School Club...</td>\n",
              "      <td>[]</td>\n",
              "      <td>25134.0</td>\n",
              "      <td>2183</td>\n",
              "      <td>8082</td>\n",
              "      <td>167</td>\n",
              "      <td>4.660</td>\n",
              "      <td>17422.0</td>\n",
              "    </tr>\n",
              "    <tr>\n",
              "      <th>4</th>\n",
              "      <td>Attack on Titan 3rd Season: Part II</td>\n",
              "      <td>TV</td>\n",
              "      <td>10.0</td>\n",
              "      <td>NaN</td>\n",
              "      <td>False</td>\n",
              "      <td>2019.0</td>\n",
              "      <td>2019.0</td>\n",
              "      <td>Spring</td>\n",
              "      <td>The battle to retake Wall Maria begins now! Wi...</td>\n",
              "      <td>['Wit Studio']</td>\n",
              "      <td>['Action', 'Fantasy', 'Horror', 'Shounen', 'Da...</td>\n",
              "      <td>['Cannibalism', 'Explicit Violence']</td>\n",
              "      <td>21308.0</td>\n",
              "      <td>3217</td>\n",
              "      <td>7864</td>\n",
              "      <td>174</td>\n",
              "      <td>4.650</td>\n",
              "      <td>15789.0</td>\n",
              "    </tr>\n",
              "  </tbody>\n",
              "</table>\n",
              "</div>"
            ],
            "text/plain": [
              "                                               title mediaType  ...  rating    votes\n",
              "0                   Fullmetal Alchemist: Brotherhood        TV  ...   4.702  86547.0\n",
              "1                                         your name.     Movie  ...   4.663  43960.0\n",
              "2                                     A Silent Voice     Movie  ...   4.661  33752.0\n",
              "3  Haikyuu!! Karasuno High School vs Shiratorizaw...        TV  ...   4.660  17422.0\n",
              "4                Attack on Titan 3rd Season: Part II        TV  ...   4.650  15789.0\n",
              "\n",
              "[5 rows x 18 columns]"
            ]
          },
          "metadata": {
            "tags": []
          },
          "execution_count": 62
        }
      ]
    },
    {
      "cell_type": "code",
      "metadata": {
        "id": "uWvqWZSgAPde",
        "colab_type": "code",
        "colab": {}
      },
      "source": [
        "df.drop(['contentWarn'],1,inplace=True)"
      ],
      "execution_count": 63,
      "outputs": []
    },
    {
      "cell_type": "code",
      "metadata": {
        "id": "eeoXoSKKArDm",
        "colab_type": "code",
        "colab": {}
      },
      "source": [
        "from sklearn.feature_extraction.text import TfidfVectorizer\n",
        "tfv = TfidfVectorizer(min_df=3,strip_accents='unicode',token_pattern=r'\\w{1,}',analyzer='word',ngram_range=(1,3),stop_words='english')\n",
        "df = df.fillna('')\n",
        "tfv_matrix = tfv.fit_transform(df.description)"
      ],
      "execution_count": 11,
      "outputs": []
    },
    {
      "cell_type": "code",
      "metadata": {
        "id": "BuGdT2KyVRRw",
        "colab_type": "code",
        "colab": {
          "base_uri": "https://localhost:8080/",
          "height": 1000
        },
        "outputId": "bf47f1ff-d40f-4ee3-a762-113fbd243746"
      },
      "source": [
        "from sklearn.metrics.pairwise import sigmoid_kernel\n",
        "\n",
        "sig=sigmoid_kernel(tfv_matrix,tfv_matrix)\n",
        "indices = pd.Series(df.index,index=df['title']).drop_duplicates()\n",
        "x = 150\n",
        "indices[x:x+50]"
      ],
      "execution_count": 59,
      "outputs": [
        {
          "output_type": "execute_result",
          "data": {
            "text/plain": [
              "title\n",
              "Steins;Gate 0                                  150\n",
              "Gintama: Aizome Kaori-hen                      151\n",
              "Natsume Yuujinchou: Itsuka Yuki no Hi ni       152\n",
              "Maquia - When the Promised Flower Blooms       153\n",
              "Magi: The Kingdom of Magic                     154\n",
              "Zoku Owarimonogatari                           155\n",
              "Nausicaa of the Valley of the Wind             156\n",
              "Fate/stay night: Unlimited Blade Works 2       157\n",
              "Kids on the Slope                              158\n",
              "Quan Zhi Gao Shou Movie: For the Glory         159\n",
              "Monster                                        160\n",
              "Kuroko's Basketball                            161\n",
              "Ouran High School Host Club                    162\n",
              "Kaguya-sama: Love Is War                       163\n",
              "My Neighbor Totoro                             164\n",
              "Grave of the Fireflies                         165\n",
              "Toradora!                                      166\n",
              "Baccano!                                       167\n",
              "Fullmetal Alchemist                            168\n",
              "Doukyuusei                                     169\n",
              "The Girl Who Leapt Through Time                170\n",
              "Sword of the Stranger                          171\n",
              "Fate/Zero                                      172\n",
              "Major Season 3                                 173\n",
              "Tengen Toppa Gurren Lagann: Lagann-hen         174\n",
              "Gintama: Yorinuki Gintama-san on Theater 2D    175\n",
              "Samurai Champloo                               176\n",
              "A Place Further Than the Universe              177\n",
              "Snow White with the Red Hair 2nd Season        178\n",
              "Violet Evergarden Special                      179\n",
              "Major Season 2                                 180\n",
              "Sora no Aosa wo Shiru Hito yo                  181\n",
              "Fate/stay night: Unlimited Blade Works         182\n",
              "Silver Spoon 2nd Season                        183\n",
              "Psycho-Pass                                    184\n",
              "Major Season 6                                 185\n",
              "Bungou Stray Dogs 3rd Season                   186\n",
              "Black Butler: Book of Murder                   187\n",
              "Ping Pong The Animation                        188\n",
              "The Seven Deadly Sins                          189\n",
              "Kingdom 2                                      190\n",
              "One Piece Movie 14: Stampede                   191\n",
              "Nodame Cantabile                               192\n",
              "Black Butler: Book of Circus                   193\n",
              "Summer Wars                                    194\n",
              "Owarimonogatari                                195\n",
              "Cowboy Bebop: The Movie                        196\n",
              "Dragon Ball Super Movie: Broly                 197\n",
              "Rainbow: Nisha Rokubou no Shichinin            198\n",
              "Major Season 4                                 199\n",
              "dtype: int64"
            ]
          },
          "metadata": {
            "tags": []
          },
          "execution_count": 59
        }
      ]
    },
    {
      "cell_type": "code",
      "metadata": {
        "id": "UEOQHyceVqIN",
        "colab_type": "code",
        "colab": {}
      },
      "source": [
        "def recom(title,sig=sig):\n",
        "  inx = indices[title]\n",
        "  sig_score = list(enumerate(sig[inx]))\n",
        "  sig_score = sorted(sig_score,key = lambda x: x[1],reverse=True)\n",
        "  sig_score = sig_score[1:11]\n",
        "  anime_index = [i[0] for i in sig_score]\n",
        "  return df['title'].iloc[anime_index]\n"
      ],
      "execution_count": 20,
      "outputs": []
    },
    {
      "cell_type": "code",
      "metadata": {
        "id": "aWfGi_sEWUr7",
        "colab_type": "code",
        "colab": {
          "base_uri": "https://localhost:8080/",
          "height": 363
        },
        "outputId": "ccb6b3d0-f3e3-4f17-dad4-81a1ba29f67b"
      },
      "source": [
        "recom('Fullmetal Alchemist: Brotherhood').to_frame()"
      ],
      "execution_count": 30,
      "outputs": [
        {
          "output_type": "execute_result",
          "data": {
            "text/html": [
              "<div>\n",
              "<style scoped>\n",
              "    .dataframe tbody tr th:only-of-type {\n",
              "        vertical-align: middle;\n",
              "    }\n",
              "\n",
              "    .dataframe tbody tr th {\n",
              "        vertical-align: top;\n",
              "    }\n",
              "\n",
              "    .dataframe thead th {\n",
              "        text-align: right;\n",
              "    }\n",
              "</style>\n",
              "<table border=\"1\" class=\"dataframe\">\n",
              "  <thead>\n",
              "    <tr style=\"text-align: right;\">\n",
              "      <th></th>\n",
              "      <th>title</th>\n",
              "    </tr>\n",
              "  </thead>\n",
              "  <tbody>\n",
              "    <tr>\n",
              "      <th>878</th>\n",
              "      <td>Fullmetal Alchemist The Movie: Conqueror of Sh...</td>\n",
              "    </tr>\n",
              "    <tr>\n",
              "      <th>477</th>\n",
              "      <td>Fullmetal Alchemist: Brotherhood Specials</td>\n",
              "    </tr>\n",
              "    <tr>\n",
              "      <th>168</th>\n",
              "      <td>Fullmetal Alchemist</td>\n",
              "    </tr>\n",
              "    <tr>\n",
              "      <th>1397</th>\n",
              "      <td>Fullmetal Alchemist: The Sacred Star of Milos</td>\n",
              "    </tr>\n",
              "    <tr>\n",
              "      <th>1531</th>\n",
              "      <td>Fullmetal Alchemist: Premium Collection</td>\n",
              "    </tr>\n",
              "    <tr>\n",
              "      <th>1825</th>\n",
              "      <td>Fullmetal Alchemist: Reflections</td>\n",
              "    </tr>\n",
              "    <tr>\n",
              "      <th>1508</th>\n",
              "      <td>Fullmetal Alchemist: Brotherhood: 4-Koma Theater</td>\n",
              "    </tr>\n",
              "    <tr>\n",
              "      <th>2303</th>\n",
              "      <td>Dororo</td>\n",
              "    </tr>\n",
              "    <tr>\n",
              "      <th>1665</th>\n",
              "      <td>Cowboy Bebop Session XX: Mish-Mash Blues</td>\n",
              "    </tr>\n",
              "    <tr>\n",
              "      <th>1956</th>\n",
              "      <td>Hakkenden: Eight Dogs of the East</td>\n",
              "    </tr>\n",
              "  </tbody>\n",
              "</table>\n",
              "</div>"
            ],
            "text/plain": [
              "                                                  title\n",
              "878   Fullmetal Alchemist The Movie: Conqueror of Sh...\n",
              "477           Fullmetal Alchemist: Brotherhood Specials\n",
              "168                                 Fullmetal Alchemist\n",
              "1397      Fullmetal Alchemist: The Sacred Star of Milos\n",
              "1531            Fullmetal Alchemist: Premium Collection\n",
              "1825                   Fullmetal Alchemist: Reflections\n",
              "1508   Fullmetal Alchemist: Brotherhood: 4-Koma Theater\n",
              "2303                                             Dororo\n",
              "1665           Cowboy Bebop Session XX: Mish-Mash Blues\n",
              "1956                  Hakkenden: Eight Dogs of the East"
            ]
          },
          "metadata": {
            "tags": []
          },
          "execution_count": 30
        }
      ]
    },
    {
      "cell_type": "code",
      "metadata": {
        "id": "EnFPwpDqWYHb",
        "colab_type": "code",
        "colab": {
          "base_uri": "https://localhost:8080/",
          "height": 363
        },
        "outputId": "dd272ad8-7f86-4d1e-d7ed-e2f083abbf27"
      },
      "source": [
        "recom('Pokemon Sun & Moon').to_frame()"
      ],
      "execution_count": 60,
      "outputs": [
        {
          "output_type": "execute_result",
          "data": {
            "text/html": [
              "<div>\n",
              "<style scoped>\n",
              "    .dataframe tbody tr th:only-of-type {\n",
              "        vertical-align: middle;\n",
              "    }\n",
              "\n",
              "    .dataframe tbody tr th {\n",
              "        vertical-align: top;\n",
              "    }\n",
              "\n",
              "    .dataframe thead th {\n",
              "        text-align: right;\n",
              "    }\n",
              "</style>\n",
              "<table border=\"1\" class=\"dataframe\">\n",
              "  <thead>\n",
              "    <tr style=\"text-align: right;\">\n",
              "      <th></th>\n",
              "      <th>title</th>\n",
              "    </tr>\n",
              "  </thead>\n",
              "  <tbody>\n",
              "    <tr>\n",
              "      <th>2419</th>\n",
              "      <td>Pokemon XY</td>\n",
              "    </tr>\n",
              "    <tr>\n",
              "      <th>1554</th>\n",
              "      <td>Pokemon Journeys</td>\n",
              "    </tr>\n",
              "    <tr>\n",
              "      <th>2011</th>\n",
              "      <td>Pokemon Movie 20: I Choose You!</td>\n",
              "    </tr>\n",
              "    <tr>\n",
              "      <th>2365</th>\n",
              "      <td>Pokemon Movie 1: The First Movie</td>\n",
              "    </tr>\n",
              "    <tr>\n",
              "      <th>3323</th>\n",
              "      <td>Pokemon Movie 8: Lucario and The Mystery of Mew</td>\n",
              "    </tr>\n",
              "    <tr>\n",
              "      <th>2189</th>\n",
              "      <td>Pokemon Movie 21: The Power of Us</td>\n",
              "    </tr>\n",
              "    <tr>\n",
              "      <th>1188</th>\n",
              "      <td>Pokemon Generations</td>\n",
              "    </tr>\n",
              "    <tr>\n",
              "      <th>1052</th>\n",
              "      <td>Pokemon XY &amp; Z</td>\n",
              "    </tr>\n",
              "    <tr>\n",
              "      <th>285</th>\n",
              "      <td>Banana Fish</td>\n",
              "    </tr>\n",
              "    <tr>\n",
              "      <th>634</th>\n",
              "      <td>Pokemon: The Origin</td>\n",
              "    </tr>\n",
              "  </tbody>\n",
              "</table>\n",
              "</div>"
            ],
            "text/plain": [
              "                                                title\n",
              "2419                                       Pokemon XY\n",
              "1554                                 Pokemon Journeys\n",
              "2011                  Pokemon Movie 20: I Choose You!\n",
              "2365                 Pokemon Movie 1: The First Movie\n",
              "3323  Pokemon Movie 8: Lucario and The Mystery of Mew\n",
              "2189                Pokemon Movie 21: The Power of Us\n",
              "1188                              Pokemon Generations\n",
              "1052                                   Pokemon XY & Z\n",
              "285                                       Banana Fish\n",
              "634                               Pokemon: The Origin"
            ]
          },
          "metadata": {
            "tags": []
          },
          "execution_count": 60
        }
      ]
    },
    {
      "cell_type": "code",
      "metadata": {
        "id": "RUQiwqEOZcBR",
        "colab_type": "code",
        "colab": {}
      },
      "source": [
        ""
      ],
      "execution_count": null,
      "outputs": []
    }
  ]
}